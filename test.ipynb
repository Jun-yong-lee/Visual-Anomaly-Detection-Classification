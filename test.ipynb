{
 "cells": [
  {
   "cell_type": "markdown",
   "metadata": {},
   "source": [
    "# Test"
   ]
  },
  {
   "cell_type": "markdown",
   "metadata": {},
   "source": [
    "## Library Setting"
   ]
  },
  {
   "cell_type": "code",
   "execution_count": 1,
   "metadata": {},
   "outputs": [
    {
     "name": "stderr",
     "output_type": "stream",
     "text": [
      "/jun/anaconda3/envs/visual_ai/lib/python3.9/site-packages/tqdm/auto.py:21: TqdmWarning: IProgress not found. Please update jupyter and ipywidgets. See https://ipywidgets.readthedocs.io/en/stable/user_install.html\n",
      "  from .autonotebook import tqdm as notebook_tqdm\n"
     ]
    }
   ],
   "source": [
    "import torch\n",
    "import torchvision\n",
    "import torchvision.transforms as transforms\n",
    "import torch.nn as nn\n",
    "from models import VGG16\n",
    "\n",
    "import os\n",
    "from tqdm import tqdm"
   ]
  },
  {
   "cell_type": "markdown",
   "metadata": {},
   "source": [
    "## Load Model"
   ]
  },
  {
   "cell_type": "code",
   "execution_count": 2,
   "metadata": {},
   "outputs": [
    {
     "data": {
      "text/plain": [
       "<All keys matched successfully>"
      ]
     },
     "execution_count": 2,
     "metadata": {},
     "output_type": "execute_result"
    }
   ],
   "source": [
    "model = VGG16(num_classes=88, use_pretrain=False)\n",
    "model_path = os.path.join(\"checkpoints\", \"best_model_aug_2405011500_epoch10.pth\")\n",
    "model.load_state_dict(torch.load(model_path))"
   ]
  },
  {
   "cell_type": "code",
   "execution_count": 3,
   "metadata": {},
   "outputs": [
    {
     "data": {
      "text/plain": [
       "VGG16(\n",
       "  (features): Sequential(\n",
       "    (0): Conv2d(3, 64, kernel_size=(3, 3), stride=(1, 1), padding=(1, 1))\n",
       "    (1): ReLU()\n",
       "    (2): Conv2d(64, 64, kernel_size=(3, 3), stride=(1, 1), padding=(1, 1))\n",
       "    (3): ReLU()\n",
       "    (4): MaxPool2d(kernel_size=2, stride=2, padding=0, dilation=1, ceil_mode=False)\n",
       "    (5): Conv2d(64, 128, kernel_size=(3, 3), stride=(1, 1), padding=(1, 1))\n",
       "    (6): ReLU()\n",
       "    (7): Conv2d(128, 128, kernel_size=(3, 3), stride=(1, 1), padding=(1, 1))\n",
       "    (8): ReLU()\n",
       "    (9): MaxPool2d(kernel_size=2, stride=2, padding=0, dilation=1, ceil_mode=False)\n",
       "    (10): Conv2d(128, 256, kernel_size=(3, 3), stride=(1, 1), padding=(1, 1))\n",
       "    (11): ReLU()\n",
       "    (12): Conv2d(256, 256, kernel_size=(3, 3), stride=(1, 1), padding=(1, 1))\n",
       "    (13): ReLU()\n",
       "    (14): Conv2d(256, 256, kernel_size=(3, 3), stride=(1, 1), padding=(1, 1))\n",
       "    (15): ReLU()\n",
       "    (16): MaxPool2d(kernel_size=2, stride=2, padding=0, dilation=1, ceil_mode=False)\n",
       "    (17): Conv2d(256, 512, kernel_size=(3, 3), stride=(1, 1), padding=(1, 1))\n",
       "    (18): ReLU()\n",
       "    (19): Conv2d(512, 512, kernel_size=(3, 3), stride=(1, 1), padding=(1, 1))\n",
       "    (20): ReLU()\n",
       "    (21): Conv2d(512, 512, kernel_size=(3, 3), stride=(1, 1), padding=(1, 1))\n",
       "    (22): ReLU()\n",
       "    (23): MaxPool2d(kernel_size=2, stride=2, padding=0, dilation=1, ceil_mode=False)\n",
       "    (24): Conv2d(512, 512, kernel_size=(3, 3), stride=(1, 1), padding=(1, 1))\n",
       "    (25): ReLU()\n",
       "    (26): Conv2d(512, 512, kernel_size=(3, 3), stride=(1, 1), padding=(1, 1))\n",
       "    (27): ReLU()\n",
       "    (28): Conv2d(512, 512, kernel_size=(3, 3), stride=(1, 1), padding=(1, 1))\n",
       "    (29): ReLU()\n",
       "    (30): MaxPool2d(kernel_size=2, stride=2, padding=0, dilation=1, ceil_mode=False)\n",
       "  )\n",
       "  (avgpool): AdaptiveAvgPool2d(output_size=(7, 7))\n",
       "  (classifier): Sequential(\n",
       "    (0): Linear(in_features=25088, out_features=4096, bias=True)\n",
       "    (1): ReLU()\n",
       "    (2): Dropout(p=0.5, inplace=False)\n",
       "    (3): Linear(in_features=4096, out_features=4096, bias=True)\n",
       "    (4): ReLU()\n",
       "    (5): Dropout(p=0.5, inplace=False)\n",
       "    (6): Linear(in_features=4096, out_features=88, bias=True)\n",
       "  )\n",
       ")"
      ]
     },
     "execution_count": 3,
     "metadata": {},
     "output_type": "execute_result"
    }
   ],
   "source": [
    "# 데이터셋 경로\n",
    "dataset_path = os.path.join(\"mvtec_anomaly_detection_imagefolder\", \"test\")\n",
    "\n",
    "# 이미지 변환 설정\n",
    "transform = transforms.Compose([transforms.Resize((224, 224)),\n",
    "                                transforms.ToTensor(),\n",
    "                                # transforms.Normalize(mean=[0.485, 0.456, 0.406], std=[0.229, 0.224, 0.225])  # ImageNet 데이터셋의 평균과 표준편차 사용\n",
    "                                ])\n",
    "\n",
    "# 데이터셋 로드\n",
    "dataset = torchvision.datasets.ImageFolder(root=dataset_path, transform=transform)\n",
    "\n",
    "# 데이터 로더 설정\n",
    "batch_size = 16\n",
    "test_loader = torch.utils.data.DataLoader(dataset, batch_size=batch_size)\n",
    "\n",
    "# gpu or cpu\n",
    "device = torch.device(\"cuda:0\" if torch.cuda.is_available() else \"cpu\")\n",
    "model.to(device)"
   ]
  },
  {
   "cell_type": "markdown",
   "metadata": {},
   "source": [
    "## Top1 & Top3 Accuracy"
   ]
  },
  {
   "cell_type": "code",
   "execution_count": 4,
   "metadata": {},
   "outputs": [
    {
     "name": "stderr",
     "output_type": "stream",
     "text": [
      "Testing: 100%|██████████| 240/240 [02:23<00:00,  1.67batch/s, Top-1 Accuracy=0.567, Top-3 Accuracy=0.842]\n"
     ]
    },
    {
     "name": "stdout",
     "output_type": "stream",
     "text": [
      "Weighted F1 Score: 0.5448512142767702\n"
     ]
    }
   ],
   "source": [
    "total = 0\n",
    "class_correct_top1 = [0] * len(dataset.classes)\n",
    "class_correct_top3 = [0] * len(dataset.classes)\n",
    "\n",
    "correct_top1 = 0\n",
    "correct_top3 = 0\n",
    "\n",
    "class_correct_top3_list = [[0] * len(dataset.classes) for _ in range(len(dataset.classes))]\n",
    "class_total = [0] * len(dataset.classes)\n",
    "\n",
    "true_labels = []\n",
    "predicted_labels = []\n",
    "\n",
    "with tqdm(total=len(test_loader), desc='Testing', unit='batch') as pbar:\n",
    "    with torch.no_grad():\n",
    "        for inputs, labels in test_loader:\n",
    "            inputs = inputs.to(device)\n",
    "            labels = labels.to(device)\n",
    "            outputs = model(inputs)\n",
    "            _, predicted = torch.topk(outputs, 3, dim=1)  # 상위 3개 클래스 인덱스\n",
    "            total += labels.size(0)\n",
    "            for i in range(len(labels)):\n",
    "                class_total[labels[i]] += 1\n",
    "                true_labels.append(labels[i].item())\n",
    "                predicted_labels.append(predicted[i][0].item())  # 모델이 가장 확률이 높은 클래스 선택\n",
    "\n",
    "                if labels[i] == predicted[i][0]:\n",
    "                    correct_top1 += 1\n",
    "                    class_correct_top1[labels[i]] += 1\n",
    "\n",
    "                if labels[i] in predicted[i]:\n",
    "                    correct_top3 += 1\n",
    "                    class_correct_top3[labels[i]] += 1\n",
    "                    for j in predicted[i]:\n",
    "                        class_correct_top3_list[labels[i]][j] += 1\n",
    "\n",
    "            pbar.update(1)\n",
    "            pbar.set_postfix({'Top-1 Accuracy': correct_top1 / total, 'Top-3 Accuracy': correct_top3 / total})\n",
    "\n",
    "# F1 점수 계산\n",
    "from sklearn.metrics import f1_score\n",
    "\n",
    "f1 = f1_score(true_labels, predicted_labels, average='weighted')\n",
    "print(\"Weighted F1 Score:\", f1)\n"
   ]
  },
  {
   "cell_type": "markdown",
   "metadata": {},
   "source": [
    "## Save Results"
   ]
  },
  {
   "cell_type": "code",
   "execution_count": 5,
   "metadata": {},
   "outputs": [
    {
     "name": "stdout",
     "output_type": "stream",
     "text": [
      "top-1 and top-3 accuracy predictions saved to class_accuracy.csv\n"
     ]
    }
   ],
   "source": [
    "import csv\n",
    "import numpy as np\n",
    "\n",
    "csv_file_path = \"class_accuracy.csv\"\n",
    "\n",
    "data = [[\"Label_Name\", \"Top1_Correct_Counts\", \"Top1_Total_Samples\", \"Top1_Accuracy\", \"Top3_Indices_1\",\n",
    "         \"Top3_Indices_2\", \"Top3_Indices_3\", \"Top3_Counts_1\", \"Top3_Counts_2\", \"Top3_Counts_3\",\n",
    "         \"Top3_Total_Samples\", \"Top3_Accuracy\", \"Top3_Probability_1\", \"Top3_Probability_2\", \"Top3_Probability_3\"]]\n",
    "\n",
    "for i, label_name in enumerate(dataset.classes):\n",
    "    # Top-1 정보\n",
    "    top1_correct_counts = class_correct_top1[i]\n",
    "    top1_total_samples = dataset.targets.count(i)\n",
    "    top1_accuracy = top1_correct_counts / top1_total_samples if top1_total_samples > 0 else 0\n",
    "\n",
    "    # Top-3 정보\n",
    "    top3_indices = np.argsort(class_correct_top3_list[i])[-3:][::-1]\n",
    "    top3_correct_counts = np.sort(class_correct_top3_list[i])[-3:][::-1]\n",
    "    top3_total_samples = np.sum(class_correct_top3_list[i])\n",
    "    top3_accuracy = class_correct_top3[i] / top1_total_samples if top1_total_samples > 0 else 0\n",
    "\n",
    "    top3_probability = top3_correct_counts / top3_total_samples\n",
    "\n",
    "    data.append([label_name, top1_correct_counts, top1_total_samples, top1_accuracy,\n",
    "                 *top3_indices[:3], *top3_correct_counts[:3], top3_total_samples, top3_accuracy, *top3_probability[:3]])\n",
    "\n",
    "with open(csv_file_path, mode='w', newline='') as file:\n",
    "    writer = csv.writer(file)\n",
    "    writer.writerows(data)\n",
    "\n",
    "print(f\"top-1 and top-3 accuracy predictions saved to {csv_file_path}\")\n"
   ]
  },
  {
   "cell_type": "code",
   "execution_count": null,
   "metadata": {},
   "outputs": [],
   "source": []
  }
 ],
 "metadata": {
  "kernelspec": {
   "display_name": "visual_ai",
   "language": "python",
   "name": "python3"
  },
  "language_info": {
   "codemirror_mode": {
    "name": "ipython",
    "version": 3
   },
   "file_extension": ".py",
   "mimetype": "text/x-python",
   "name": "python",
   "nbconvert_exporter": "python",
   "pygments_lexer": "ipython3",
   "version": "3.9.19"
  }
 },
 "nbformat": 4,
 "nbformat_minor": 2
}
