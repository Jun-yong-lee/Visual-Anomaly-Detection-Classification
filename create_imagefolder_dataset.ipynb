{
 "cells": [
  {
   "cell_type": "markdown",
   "metadata": {},
   "source": [
    "# Create imagefolder dataset "
   ]
  },
  {
   "cell_type": "markdown",
   "metadata": {},
   "source": [
    "## Path"
   ]
  },
  {
   "cell_type": "code",
   "execution_count": 8,
   "metadata": {},
   "outputs": [],
   "source": [
    "import os\n",
    "import shutil\n",
    "\n",
    "base_dataset_path = os.path.join(\"dataset\", \"mvtec_anomaly_detection\")\n",
    "imagefolder_dataset_path = \"mvtec_anomaly_detection_imagefolder\""
   ]
  },
  {
   "cell_type": "markdown",
   "metadata": {},
   "source": [
    "## Create train dataset"
   ]
  },
  {
   "cell_type": "code",
   "execution_count": null,
   "metadata": {},
   "outputs": [],
   "source": [
    "for class_name in os.listdir(base_dataset_path):\n",
    "    class_path = os.path.join(base_dataset_path, class_name)\n",
    "    \n",
    "    if os.path.isdir(class_path):\n",
    "        new_class_name = f\"{class_name}-good\"\n",
    "        new_train_path = os.path.join(imagefolder_dataset_path, new_class_name)\n",
    "        os.makedirs(new_train_path, exist_ok=True)\n",
    "        \n",
    "        test_folder_path = os.path.join(class_path, \"test\")\n",
    "        for test_folder_name in os.listdir(test_folder_path):\n",
    "            print(f\"{test_folder_path}\\\\{test_folder_name}\")\n",
    "            test_class_name = f\"{class_name}-{test_folder_name}\"\n",
    "            new_test_path = os.path.join(imagefolder_dataset_path, test_class_name)\n",
    "            os.makedirs(new_test_path, exist_ok=True)\n",
    "            \n",
    "            source_path = os.path.join(test_folder_path, test_folder_name)\n",
    "            image_files = sorted(os.listdir(source_path))\n",
    "            start_index = len(os.listdir(new_test_path))\n",
    "            for i, img in enumerate(image_files):\n",
    "                img_path = os.path.join(source_path, img)\n",
    "                new_img_name = f\"{start_index + i:03d}.jpg\"\n",
    "                new_img_path = os.path.join(new_test_path, new_img_name)\n",
    "                shutil.copy(img_path, new_img_path)\n",
    "        \n",
    "        source_path = os.path.join(class_path, \"train\", \"good\")\n",
    "        image_files = sorted(os.listdir(source_path))\n",
    "        start_index = len(os.listdir(new_train_path))\n",
    "        for i, img in enumerate(image_files):\n",
    "            img_path = os.path.join(source_path, img)\n",
    "            new_img_name = f\"{start_index + i:03d}.jpg\"\n",
    "            new_img_path = os.path.join(new_train_path, new_img_name)\n",
    "            shutil.copy(img_path, new_img_path)\n",
    "\n",
    "print(\"finish\")"
   ]
  },
  {
   "cell_type": "markdown",
   "metadata": {},
   "source": [
    "## Create validation dataset (train 데이터의 15% 비율)"
   ]
  },
  {
   "cell_type": "code",
   "execution_count": null,
   "metadata": {},
   "outputs": [],
   "source": [
    "import os\n",
    "import random\n",
    "import shutil\n",
    "\n",
    "classes_name = os.listdir(os.path.join(\"mvtec_anomaly_detection_imagefolder\", \"train\"))\n",
    "\n",
    "dataset_path = \"mvtec_anomaly_detection_imagefolder\"\n",
    "test_folder = os.path.join(dataset_path, \"validation\")\n",
    "\n",
    "for class_name in classes_name:\n",
    "    class_folder = os.path.join(test_folder, class_name)\n",
    "\n",
    "    if not os.path.exists(class_folder):\n",
    "        os.makedirs(class_folder)\n",
    "\n",
    "    train_folder = os.path.join(dataset_path, \"train\", class_name)\n",
    "    image_files = os.listdir(train_folder)\n",
    "\n",
    "    num_images_to_move = int(0.15 * len(image_files))\n",
    "    # 3개 이하의 이상치일 경우\n",
    "    if num_images_to_move <= 3:\n",
    "        num_images_to_move = 3\n",
    "    images_to_move = random.sample(image_files, num_images_to_move)\n",
    "    \n",
    "    for img_name in images_to_move:\n",
    "        src_path = os.path.join(train_folder, img_name)\n",
    "        dst_path = os.path.join(class_folder, img_name)\n",
    "        shutil.move(src_path, dst_path)\n",
    "    \n",
    "    print(f\"{class_name} 클래스의 {num_images_to_move}개 이미지가 성공적으로 validation 폴더로 이동되었습니다.\")\n"
   ]
  },
  {
   "cell_type": "markdown",
   "metadata": {},
   "source": [
    "## Create test dataset (train 데이터의 15% 비율)"
   ]
  },
  {
   "cell_type": "code",
   "execution_count": null,
   "metadata": {},
   "outputs": [],
   "source": [
    "import os\n",
    "import random\n",
    "import shutil\n",
    "\n",
    "classes_name = os.listdir(os.path.join(\"mvtec_anomaly_detection_imagefolder\", \"train\"))\n",
    "\n",
    "dataset_path = \"mvtec_anomaly_detection_imagefolder\"\n",
    "test_folder = os.path.join(dataset_path, \"test\")\n",
    "\n",
    "for class_name in classes_name:\n",
    "    class_folder = os.path.join(test_folder, class_name)\n",
    "\n",
    "    if not os.path.exists(class_folder):\n",
    "        os.makedirs(class_folder)\n",
    "\n",
    "    train_folder = os.path.join(dataset_path, \"train\", class_name)\n",
    "    image_files = os.listdir(train_folder)\n",
    "\n",
    "    num_images_to_move = int(0.15 * len(image_files))\n",
    "    # 3개 이하의 이상치일 경우\n",
    "    if num_images_to_move <= 3:\n",
    "        num_images_to_move = 3\n",
    "    images_to_move = random.sample(image_files, num_images_to_move)\n",
    "    \n",
    "    for img_name in images_to_move:\n",
    "        src_path = os.path.join(train_folder, img_name)\n",
    "        dst_path = os.path.join(class_folder, img_name)\n",
    "        shutil.move(src_path, dst_path)\n",
    "    \n",
    "    print(f\"{class_name} 클래스의 {num_images_to_move}개 이미지가 성공적으로 test 폴더로 이동되었습니다.\")\n"
   ]
  }
 ],
 "metadata": {
  "kernelspec": {
   "display_name": "yolov8",
   "language": "python",
   "name": "python3"
  },
  "language_info": {
   "codemirror_mode": {
    "name": "ipython",
    "version": 3
   },
   "file_extension": ".py",
   "mimetype": "text/x-python",
   "name": "python",
   "nbconvert_exporter": "python",
   "pygments_lexer": "ipython3",
   "version": "3.9.17"
  }
 },
 "nbformat": 4,
 "nbformat_minor": 2
}
