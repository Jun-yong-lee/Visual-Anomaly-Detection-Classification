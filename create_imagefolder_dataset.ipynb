{
 "cells": [
  {
   "cell_type": "markdown",
   "metadata": {},
   "source": [
    "# Create imagefolder dataset "
   ]
  },
  {
   "cell_type": "markdown",
   "metadata": {},
   "source": [
    "## Path"
   ]
  },
  {
   "cell_type": "code",
   "execution_count": 2,
   "metadata": {},
   "outputs": [],
   "source": [
    "import os\n",
    "import shutil\n",
    "\n",
    "base_dataset_path = os.path.join(\"dataset\", \"mvtec_anomaly_detection\")\n",
    "imagefolder_dataset_path = \"mvtec_anomaly_detection_imagefolder\""
   ]
  },
  {
   "cell_type": "markdown",
   "metadata": {},
   "source": [
    "## Create train dataset"
   ]
  },
  {
   "cell_type": "code",
   "execution_count": 6,
   "metadata": {},
   "outputs": [
    {
     "name": "stdout",
     "output_type": "stream",
     "text": [
      "dataset/mvtec_anomaly_detection/tile/test/oil\n"
     ]
    },
    {
     "ename": "FileNotFoundError",
     "evalue": "[Errno 2] No such file or directory: 'mvtec_anomaly_detection_imagefolder/tile-oil/train/000.png'",
     "output_type": "error",
     "traceback": [
      "\u001b[0;31m---------------------------------------------------------------------------\u001b[0m",
      "\u001b[0;31mFileNotFoundError\u001b[0m                         Traceback (most recent call last)",
      "Cell \u001b[0;32mIn[6], line 28\u001b[0m\n\u001b[1;32m     26\u001b[0m         new_img_name \u001b[38;5;241m=\u001b[39m \u001b[38;5;124mf\u001b[39m\u001b[38;5;124m\"\u001b[39m\u001b[38;5;132;01m{\u001b[39;00mstart_index\u001b[38;5;250m \u001b[39m\u001b[38;5;241m+\u001b[39m\u001b[38;5;250m \u001b[39mi\u001b[38;5;132;01m:\u001b[39;00m\u001b[38;5;124m03d\u001b[39m\u001b[38;5;132;01m}\u001b[39;00m\u001b[38;5;124m.png\u001b[39m\u001b[38;5;124m\"\u001b[39m\n\u001b[1;32m     27\u001b[0m         new_img_path \u001b[38;5;241m=\u001b[39m os\u001b[38;5;241m.\u001b[39mpath\u001b[38;5;241m.\u001b[39mjoin(os\u001b[38;5;241m.\u001b[39mpath\u001b[38;5;241m.\u001b[39mjoin(new_test_path, \u001b[38;5;124m\"\u001b[39m\u001b[38;5;124mtrain\u001b[39m\u001b[38;5;124m\"\u001b[39m), new_img_name)\n\u001b[0;32m---> 28\u001b[0m         \u001b[43mshutil\u001b[49m\u001b[38;5;241;43m.\u001b[39;49m\u001b[43mcopy\u001b[49m\u001b[43m(\u001b[49m\u001b[43mimg_path\u001b[49m\u001b[43m,\u001b[49m\u001b[43m \u001b[49m\u001b[43mnew_img_path\u001b[49m\u001b[43m)\u001b[49m\n\u001b[1;32m     30\u001b[0m source_path \u001b[38;5;241m=\u001b[39m os\u001b[38;5;241m.\u001b[39mpath\u001b[38;5;241m.\u001b[39mjoin(class_path, \u001b[38;5;124m\"\u001b[39m\u001b[38;5;124mtrain\u001b[39m\u001b[38;5;124m\"\u001b[39m, \u001b[38;5;124m\"\u001b[39m\u001b[38;5;124mgood\u001b[39m\u001b[38;5;124m\"\u001b[39m)\n\u001b[1;32m     31\u001b[0m image_files \u001b[38;5;241m=\u001b[39m \u001b[38;5;28msorted\u001b[39m(os\u001b[38;5;241m.\u001b[39mlistdir(source_path))\n",
      "File \u001b[0;32m/jun/anaconda3/envs/visual_ai/lib/python3.9/shutil.py:427\u001b[0m, in \u001b[0;36mcopy\u001b[0;34m(src, dst, follow_symlinks)\u001b[0m\n\u001b[1;32m    425\u001b[0m \u001b[38;5;28;01mif\u001b[39;00m os\u001b[38;5;241m.\u001b[39mpath\u001b[38;5;241m.\u001b[39misdir(dst):\n\u001b[1;32m    426\u001b[0m     dst \u001b[38;5;241m=\u001b[39m os\u001b[38;5;241m.\u001b[39mpath\u001b[38;5;241m.\u001b[39mjoin(dst, os\u001b[38;5;241m.\u001b[39mpath\u001b[38;5;241m.\u001b[39mbasename(src))\n\u001b[0;32m--> 427\u001b[0m \u001b[43mcopyfile\u001b[49m\u001b[43m(\u001b[49m\u001b[43msrc\u001b[49m\u001b[43m,\u001b[49m\u001b[43m \u001b[49m\u001b[43mdst\u001b[49m\u001b[43m,\u001b[49m\u001b[43m \u001b[49m\u001b[43mfollow_symlinks\u001b[49m\u001b[38;5;241;43m=\u001b[39;49m\u001b[43mfollow_symlinks\u001b[49m\u001b[43m)\u001b[49m\n\u001b[1;32m    428\u001b[0m copymode(src, dst, follow_symlinks\u001b[38;5;241m=\u001b[39mfollow_symlinks)\n\u001b[1;32m    429\u001b[0m \u001b[38;5;28;01mreturn\u001b[39;00m dst\n",
      "File \u001b[0;32m/jun/anaconda3/envs/visual_ai/lib/python3.9/shutil.py:266\u001b[0m, in \u001b[0;36mcopyfile\u001b[0;34m(src, dst, follow_symlinks)\u001b[0m\n\u001b[1;32m    264\u001b[0m \u001b[38;5;28;01mwith\u001b[39;00m \u001b[38;5;28mopen\u001b[39m(src, \u001b[38;5;124m'\u001b[39m\u001b[38;5;124mrb\u001b[39m\u001b[38;5;124m'\u001b[39m) \u001b[38;5;28;01mas\u001b[39;00m fsrc:\n\u001b[1;32m    265\u001b[0m     \u001b[38;5;28;01mtry\u001b[39;00m:\n\u001b[0;32m--> 266\u001b[0m         \u001b[38;5;28;01mwith\u001b[39;00m \u001b[38;5;28;43mopen\u001b[39;49m\u001b[43m(\u001b[49m\u001b[43mdst\u001b[49m\u001b[43m,\u001b[49m\u001b[43m \u001b[49m\u001b[38;5;124;43m'\u001b[39;49m\u001b[38;5;124;43mwb\u001b[39;49m\u001b[38;5;124;43m'\u001b[39;49m\u001b[43m)\u001b[49m \u001b[38;5;28;01mas\u001b[39;00m fdst:\n\u001b[1;32m    267\u001b[0m             \u001b[38;5;66;03m# macOS\u001b[39;00m\n\u001b[1;32m    268\u001b[0m             \u001b[38;5;28;01mif\u001b[39;00m _HAS_FCOPYFILE:\n\u001b[1;32m    269\u001b[0m                 \u001b[38;5;28;01mtry\u001b[39;00m:\n",
      "\u001b[0;31mFileNotFoundError\u001b[0m: [Errno 2] No such file or directory: 'mvtec_anomaly_detection_imagefolder/tile-oil/train/000.png'"
     ]
    }
   ],
   "source": [
    "train_path = os.path.join(imagefolder_dataset_path, \"train\")\n",
    "\n",
    "if not os.path.exists(train_path):\n",
    "    os.makedirs(train_path)\n",
    "\n",
    "for class_name in os.listdir(base_dataset_path):\n",
    "    class_path = os.path.join(base_dataset_path, class_name)\n",
    "    \n",
    "    if os.path.isdir(class_path):\n",
    "        new_class_name = f\"{class_name}-good\"\n",
    "        new_train_path = os.path.join(imagefolder_dataset_path, new_class_name)\n",
    "        os.makedirs(new_train_path, exist_ok=True)\n",
    "        \n",
    "        test_folder_path = os.path.join(class_path, \"test\")\n",
    "        for test_folder_name in os.listdir(test_folder_path):\n",
    "            print(f\"{test_folder_path}/{test_folder_name}\")\n",
    "            test_class_name = f\"{class_name}-{test_folder_name}\"\n",
    "            new_test_path = os.path.join(imagefolder_dataset_path, test_class_name)\n",
    "            os.makedirs(new_test_path, exist_ok=True)\n",
    "            \n",
    "            source_path = os.path.join(test_folder_path, test_folder_name)\n",
    "            image_files = sorted(os.listdir(source_path))\n",
    "            start_index = len(os.listdir(new_test_path))\n",
    "            for i, img in enumerate(image_files):\n",
    "                img_path = os.path.join(source_path, img)\n",
    "                new_img_name = f\"{start_index + i:03d}.png\"\n",
    "                new_img_path = os.path.join(new_test_path, new_img_name)\n",
    "                shutil.copy(img_path, new_img_path)\n",
    "        \n",
    "        source_path = os.path.join(class_path, \"train\", \"good\")\n",
    "        image_files = sorted(os.listdir(source_path))\n",
    "        start_index = len(os.listdir(new_train_path))\n",
    "        for i, img in enumerate(image_files):\n",
    "            img_path = os.path.join(source_path, img)\n",
    "            new_img_name = f\"{start_index + i:03d}.png\"\n",
    "            new_img_path = os.path.join(new_train_path, new_img_name)\n",
    "            shutil.copy(img_path, new_img_path)\n",
    "\n",
    "print(\"finish\")"
   ]
  },
  {
   "cell_type": "markdown",
   "metadata": {},
   "source": [
    "## Create validation dataset (train 데이터의 15% 비율)"
   ]
  },
  {
   "cell_type": "code",
   "execution_count": null,
   "metadata": {},
   "outputs": [],
   "source": [
    "import os\n",
    "import random\n",
    "import shutil\n",
    "\n",
    "classes_name = os.listdir(os.path.join(\"mvtec_anomaly_detection_imagefolder\", \"train\"))\n",
    "\n",
    "dataset_path = \"mvtec_anomaly_detection_imagefolder\"\n",
    "test_folder = os.path.join(dataset_path, \"validation\")\n",
    "\n",
    "for class_name in classes_name:\n",
    "    class_folder = os.path.join(test_folder, class_name)\n",
    "\n",
    "    if not os.path.exists(class_folder):\n",
    "        os.makedirs(class_folder)\n",
    "\n",
    "    train_folder = os.path.join(dataset_path, \"train\", class_name)\n",
    "    image_files = os.listdir(train_folder)\n",
    "\n",
    "    num_images_to_move = int(0.15 * len(image_files))\n",
    "    # 3개 이하의 이상치일 경우\n",
    "    if num_images_to_move <= 3:\n",
    "        num_images_to_move = 3\n",
    "    images_to_move = random.sample(image_files, num_images_to_move)\n",
    "    \n",
    "    for img_name in images_to_move:\n",
    "        src_path = os.path.join(train_folder, img_name)\n",
    "        dst_path = os.path.join(class_folder, img_name)\n",
    "        shutil.move(src_path, dst_path)\n",
    "    \n",
    "    print(f\"{class_name} 클래스의 {num_images_to_move}개 이미지가 성공적으로 validation 폴더로 이동되었습니다.\")\n"
   ]
  },
  {
   "cell_type": "markdown",
   "metadata": {},
   "source": [
    "## Create test dataset (train 데이터의 15% 비율)"
   ]
  },
  {
   "cell_type": "code",
   "execution_count": null,
   "metadata": {},
   "outputs": [],
   "source": [
    "import os\n",
    "import random\n",
    "import shutil\n",
    "\n",
    "classes_name = os.listdir(os.path.join(\"mvtec_anomaly_detection_imagefolder\", \"train\"))\n",
    "\n",
    "dataset_path = \"mvtec_anomaly_detection_imagefolder\"\n",
    "test_folder = os.path.join(dataset_path, \"test\")\n",
    "\n",
    "for class_name in classes_name:\n",
    "    class_folder = os.path.join(test_folder, class_name)\n",
    "\n",
    "    if not os.path.exists(class_folder):\n",
    "        os.makedirs(class_folder)\n",
    "\n",
    "    train_folder = os.path.join(dataset_path, \"train\", class_name)\n",
    "    image_files = os.listdir(train_folder)\n",
    "\n",
    "    num_images_to_move = int(0.15 * len(image_files))\n",
    "    # 3개 이하의 이상치일 경우\n",
    "    if num_images_to_move <= 3:\n",
    "        num_images_to_move = 3\n",
    "    images_to_move = random.sample(image_files, num_images_to_move)\n",
    "    \n",
    "    for img_name in images_to_move:\n",
    "        src_path = os.path.join(train_folder, img_name)\n",
    "        dst_path = os.path.join(class_folder, img_name)\n",
    "        shutil.move(src_path, dst_path)\n",
    "    \n",
    "    print(f\"{class_name} 클래스의 {num_images_to_move}개 이미지가 성공적으로 test 폴더로 이동되었습니다.\")\n"
   ]
  }
 ],
 "metadata": {
  "kernelspec": {
   "display_name": "yolov8",
   "language": "python",
   "name": "python3"
  },
  "language_info": {
   "codemirror_mode": {
    "name": "ipython",
    "version": 3
   },
   "file_extension": ".py",
   "mimetype": "text/x-python",
   "name": "python",
   "nbconvert_exporter": "python",
   "pygments_lexer": "ipython3",
   "version": "3.9.19"
  }
 },
 "nbformat": 4,
 "nbformat_minor": 2
}
